{
 "cells": [
  {
   "cell_type": "code",
   "execution_count": 1,
   "metadata": {
    "tags": []
   },
   "outputs": [
    {
     "output_type": "stream",
     "name": "stdout",
     "text": "Requirement already satisfied: gmaps in c:\\users\\jgj2079\\documents\\new folder\\lib\\site-packages (0.9.0)\nRequirement already satisfied: traitlets>=4.3.0 in c:\\users\\jgj2079\\documents\\new folder\\lib\\site-packages (from gmaps) (4.3.3)\nRequirement already satisfied: six in c:\\users\\jgj2079\\documents\\new folder\\lib\\site-packages (from gmaps) (1.14.0)\nRequirement already satisfied: geojson>=2.0.0 in c:\\users\\jgj2079\\documents\\new folder\\lib\\site-packages (from gmaps) (2.5.0)\nRequirement already satisfied: ipython>=5.3.0 in c:\\users\\jgj2079\\documents\\new folder\\lib\\site-packages (from gmaps) (7.12.0)\nRequirement already satisfied: ipywidgets>=7.0.0 in c:\\users\\jgj2079\\documents\\new folder\\lib\\site-packages (from gmaps) (7.5.1)\nRequirement already satisfied: decorator in c:\\users\\jgj2079\\documents\\new folder\\lib\\site-packages (from traitlets>=4.3.0->gmaps) (4.4.1)\nRequirement already satisfied: ipython-genutils in c:\\users\\jgj2079\\documents\\new folder\\lib\\site-packages (from traitlets>=4.3.0->gmaps) (0.2.0)\nRequirement already satisfied: jedi>=0.10 in c:\\users\\jgj2079\\documents\\new folder\\lib\\site-packages (from ipython>=5.3.0->gmaps) (0.14.1)\nRequirement already satisfied: setuptools>=18.5 in c:\\users\\jgj2079\\documents\\new folder\\lib\\site-packages (from ipython>=5.3.0->gmaps) (45.2.0.post20200210)\nRequirement already satisfied: backcall in c:\\users\\jgj2079\\documents\\new folder\\lib\\site-packages (from ipython>=5.3.0->gmaps) (0.1.0)\nRequirement already satisfied: colorama; sys_platform == \"win32\" in c:\\users\\jgj2079\\documents\\new folder\\lib\\site-packages (from ipython>=5.3.0->gmaps) (0.4.3)\nRequirement already satisfied: pygments in c:\\users\\jgj2079\\documents\\new folder\\lib\\site-packages (from ipython>=5.3.0->gmaps) (2.5.2)\nRequirement already satisfied: pickleshare in c:\\users\\jgj2079\\documents\\new folder\\lib\\site-packages (from ipython>=5.3.0->gmaps) (0.7.5)\nRequirement already satisfied: prompt-toolkit!=3.0.0,!=3.0.1,<3.1.0,>=2.0.0 in c:\\users\\jgj2079\\documents\\new folder\\lib\\site-packages (from ipython>=5.3.0->gmaps) (3.0.3)\nRequirement already satisfied: ipykernel>=4.5.1 in c:\\users\\jgj2079\\documents\\new folder\\lib\\site-packages (from ipywidgets>=7.0.0->gmaps) (5.1.4)\nRequirement already satisfied: widgetsnbextension~=3.5.0 in c:\\users\\jgj2079\\documents\\new folder\\lib\\site-packages (from ipywidgets>=7.0.0->gmaps) (3.5.1)\nRequirement already satisfied: nbformat>=4.2.0 in c:\\users\\jgj2079\\documents\\new folder\\lib\\site-packages (from ipywidgets>=7.0.0->gmaps) (5.0.4)\nRequirement already satisfied: parso>=0.5.0 in c:\\users\\jgj2079\\documents\\new folder\\lib\\site-packages (from jedi>=0.10->ipython>=5.3.0->gmaps) (0.5.2)\nRequirement already satisfied: wcwidth in c:\\users\\jgj2079\\documents\\new folder\\lib\\site-packages (from prompt-toolkit!=3.0.0,!=3.0.1,<3.1.0,>=2.0.0->ipython>=5.3.0->gmaps) (0.1.8)\nRequirement already satisfied: tornado>=4.2 in c:\\users\\jgj2079\\documents\\new folder\\lib\\site-packages (from ipykernel>=4.5.1->ipywidgets>=7.0.0->gmaps) (6.0.3)\nRequirement already satisfied: jupyter-client in c:\\users\\jgj2079\\documents\\new folder\\lib\\site-packages (from ipykernel>=4.5.1->ipywidgets>=7.0.0->gmaps) (5.3.4)\nRequirement already satisfied: notebook>=4.4.1 in c:\\users\\jgj2079\\documents\\new folder\\lib\\site-packages (from widgetsnbextension~=3.5.0->ipywidgets>=7.0.0->gmaps) (6.0.3)\nRequirement already satisfied: jupyter-core in c:\\users\\jgj2079\\documents\\new folder\\lib\\site-packages (from nbformat>=4.2.0->ipywidgets>=7.0.0->gmaps) (4.6.1)\nRequirement already satisfied: jsonschema!=2.5.0,>=2.4 in c:\\users\\jgj2079\\documents\\new folder\\lib\\site-packages (from nbformat>=4.2.0->ipywidgets>=7.0.0->gmaps) (3.2.0)\nRequirement already satisfied: pyzmq>=13 in c:\\users\\jgj2079\\documents\\new folder\\lib\\site-packages (from jupyter-client->ipykernel>=4.5.1->ipywidgets>=7.0.0->gmaps) (18.1.1)\nRequirement already satisfied: pywin32>=1.0; sys_platform == \"win32\" in c:\\users\\jgj2079\\documents\\new folder\\lib\\site-packages (from jupyter-client->ipykernel>=4.5.1->ipywidgets>=7.0.0->gmaps) (227)\nRequirement already satisfied: python-dateutil>=2.1 in c:\\users\\jgj2079\\documents\\new folder\\lib\\site-packages (from jupyter-client->ipykernel>=4.5.1->ipywidgets>=7.0.0->gmaps) (2.8.1)\nRequirement already satisfied: terminado>=0.8.1 in c:\\users\\jgj2079\\documents\\new folder\\lib\\site-packages (from notebook>=4.4.1->widgetsnbextension~=3.5.0->ipywidgets>=7.0.0->gmaps) (0.8.3)\nRequirement already satisfied: Send2Trash in c:\\users\\jgj2079\\documents\\new folder\\lib\\site-packages (from notebook>=4.4.1->widgetsnbextension~=3.5.0->ipywidgets>=7.0.0->gmaps) (1.5.0)\nRequirement already satisfied: prometheus-client in c:\\users\\jgj2079\\documents\\new folder\\lib\\site-packages (from notebook>=4.4.1->widgetsnbextension~=3.5.0->ipywidgets>=7.0.0->gmaps) (0.7.1)\nRequirement already satisfied: nbconvert in c:\\users\\jgj2079\\documents\\new folder\\lib\\site-packages (from notebook>=4.4.1->widgetsnbextension~=3.5.0->ipywidgets>=7.0.0->gmaps) (5.6.1)\nRequirement already satisfied: jinja2 in c:\\users\\jgj2079\\documents\\new folder\\lib\\site-packages (from notebook>=4.4.1->widgetsnbextension~=3.5.0->ipywidgets>=7.0.0->gmaps) (2.11.1)\nRequirement already satisfied: attrs>=17.4.0 in c:\\users\\jgj2079\\documents\\new folder\\lib\\site-packages (from jsonschema!=2.5.0,>=2.4->nbformat>=4.2.0->ipywidgets>=7.0.0->gmaps) (19.3.0)\nRequirement already satisfied: importlib-metadata; python_version < \"3.8\" in c:\\users\\jgj2079\\documents\\new folder\\lib\\site-packages (from jsonschema!=2.5.0,>=2.4->nbformat>=4.2.0->ipywidgets>=7.0.0->gmaps) (1.5.0)\nRequirement already satisfied: pyrsistent>=0.14.0 in c:\\users\\jgj2079\\documents\\new folder\\lib\\site-packages (from jsonschema!=2.5.0,>=2.4->nbformat>=4.2.0->ipywidgets>=7.0.0->gmaps) (0.15.7)\nRequirement already satisfied: mistune<2,>=0.8.1 in c:\\users\\jgj2079\\documents\\new folder\\lib\\site-packages (from nbconvert->notebook>=4.4.1->widgetsnbextension~=3.5.0->ipywidgets>=7.0.0->gmaps) (0.8.4)\nRequirement already satisfied: testpath in c:\\users\\jgj2079\\documents\\new folder\\lib\\site-packages (from nbconvert->notebook>=4.4.1->widgetsnbextension~=3.5.0->ipywidgets>=7.0.0->gmaps) (0.4.4)\nRequirement already satisfied: defusedxml in c:\\users\\jgj2079\\documents\\new folder\\lib\\site-packages (from nbconvert->notebook>=4.4.1->widgetsnbextension~=3.5.0->ipywidgets>=7.0.0->gmaps) (0.6.0)\nRequirement already satisfied: pandocfilters>=1.4.1 in c:\\users\\jgj2079\\documents\\new folder\\lib\\site-packages (from nbconvert->notebook>=4.4.1->widgetsnbextension~=3.5.0->ipywidgets>=7.0.0->gmaps) (1.4.2)\nRequirement already satisfied: entrypoints>=0.2.2 in c:\\users\\jgj2079\\documents\\new folder\\lib\\site-packages (from nbconvert->notebook>=4.4.1->widgetsnbextension~=3.5.0->ipywidgets>=7.0.0->gmaps) (0.3)\nRequirement already satisfied: bleach in c:\\users\\jgj2079\\documents\\new folder\\lib\\site-packages (from nbconvert->notebook>=4.4.1->widgetsnbextension~=3.5.0->ipywidgets>=7.0.0->gmaps) (3.1.0)\nRequirement already satisfied: MarkupSafe>=0.23 in c:\\users\\jgj2079\\documents\\new folder\\lib\\site-packages (from jinja2->notebook>=4.4.1->widgetsnbextension~=3.5.0->ipywidgets>=7.0.0->gmaps) (1.1.1)\nRequirement already satisfied: zipp>=0.5 in c:\\users\\jgj2079\\documents\\new folder\\lib\\site-packages (from importlib-metadata; python_version < \"3.8\"->jsonschema!=2.5.0,>=2.4->nbformat>=4.2.0->ipywidgets>=7.0.0->gmaps) (2.2.0)\nRequirement already satisfied: webencodings in c:\\users\\jgj2079\\documents\\new folder\\lib\\site-packages (from bleach->nbconvert->notebook>=4.4.1->widgetsnbextension~=3.5.0->ipywidgets>=7.0.0->gmaps) (0.5.1)\n"
    }
   ],
   "source": [
    "!pip install gmaps"
   ]
  },
  {
   "cell_type": "code",
   "execution_count": 2,
   "metadata": {},
   "outputs": [],
   "source": [
    "# VacationPy\n",
    "#----\n",
    "\n",
    "#### Note\n",
    "#* Instructions have been included for each segment. You do not have to follow them exactly, but they are included to help you think through the steps."
   ]
  },
  {
   "cell_type": "code",
   "execution_count": 3,
   "metadata": {},
   "outputs": [],
   "source": [
    "# Dependencies and Setup\n",
    "import matplotlib.pyplot as plt\n",
    "import pandas as pd\n",
    "import numpy as np\n",
    "import requests\n",
    "import json\n",
    "import gmaps\n",
    "import os\n",
    "import pprint\n",
    "\n",
    "# Import API key\n",
    "from api_keys import g_key"
   ]
  },
  {
   "cell_type": "code",
   "execution_count": 4,
   "metadata": {},
   "outputs": [
    {
     "output_type": "execute_result",
     "data": {
      "text/plain": "   City_ID       City  Cloudiness Country        Date  Humidity    Lat  \\\n0        0  ostrovnoy           2      RU  1558378754        72  68.05   \n1        1  mahebourg          75      MU  1558378503        74 -20.41   \n2        2    qaanaaq          25      GL  1558378755        73  77.48   \n3        3     zhuhai           0      CN  1558378755        39  40.71   \n4        4  cape town          20      ZA  1558378755        76 -33.93   \n\n      Lng  Max Temp  Wind Speed  \n0   39.51     37.50        7.16  \n1   57.70     78.80       11.41  \n2  -69.36     22.20        2.37  \n3  112.04     44.60        4.47  \n4   18.42     55.99        8.05  ",
      "text/html": "<div>\n<style scoped>\n    .dataframe tbody tr th:only-of-type {\n        vertical-align: middle;\n    }\n\n    .dataframe tbody tr th {\n        vertical-align: top;\n    }\n\n    .dataframe thead th {\n        text-align: right;\n    }\n</style>\n<table border=\"1\" class=\"dataframe\">\n  <thead>\n    <tr style=\"text-align: right;\">\n      <th></th>\n      <th>City_ID</th>\n      <th>City</th>\n      <th>Cloudiness</th>\n      <th>Country</th>\n      <th>Date</th>\n      <th>Humidity</th>\n      <th>Lat</th>\n      <th>Lng</th>\n      <th>Max Temp</th>\n      <th>Wind Speed</th>\n    </tr>\n  </thead>\n  <tbody>\n    <tr>\n      <th>0</th>\n      <td>0</td>\n      <td>ostrovnoy</td>\n      <td>2</td>\n      <td>RU</td>\n      <td>1558378754</td>\n      <td>72</td>\n      <td>68.05</td>\n      <td>39.51</td>\n      <td>37.50</td>\n      <td>7.16</td>\n    </tr>\n    <tr>\n      <th>1</th>\n      <td>1</td>\n      <td>mahebourg</td>\n      <td>75</td>\n      <td>MU</td>\n      <td>1558378503</td>\n      <td>74</td>\n      <td>-20.41</td>\n      <td>57.70</td>\n      <td>78.80</td>\n      <td>11.41</td>\n    </tr>\n    <tr>\n      <th>2</th>\n      <td>2</td>\n      <td>qaanaaq</td>\n      <td>25</td>\n      <td>GL</td>\n      <td>1558378755</td>\n      <td>73</td>\n      <td>77.48</td>\n      <td>-69.36</td>\n      <td>22.20</td>\n      <td>2.37</td>\n    </tr>\n    <tr>\n      <th>3</th>\n      <td>3</td>\n      <td>zhuhai</td>\n      <td>0</td>\n      <td>CN</td>\n      <td>1558378755</td>\n      <td>39</td>\n      <td>40.71</td>\n      <td>112.04</td>\n      <td>44.60</td>\n      <td>4.47</td>\n    </tr>\n    <tr>\n      <th>4</th>\n      <td>4</td>\n      <td>cape town</td>\n      <td>20</td>\n      <td>ZA</td>\n      <td>1558378755</td>\n      <td>76</td>\n      <td>-33.93</td>\n      <td>18.42</td>\n      <td>55.99</td>\n      <td>8.05</td>\n    </tr>\n  </tbody>\n</table>\n</div>"
     },
     "metadata": {},
     "execution_count": 4
    }
   ],
   "source": [
    "vaca_csv =\"output_data/cities.csv\"\n",
    "vaca = pd.read_csv(vaca_csv)\n",
    "vaca.head()"
   ]
  },
  {
   "cell_type": "code",
   "execution_count": 5,
   "metadata": {},
   "outputs": [
    {
     "output_type": "execute_result",
     "data": {
      "text/plain": "City_ID       548\nCity          548\nCloudiness     86\nCountry       123\nDate          175\nHumidity       89\nLat           532\nLng           543\nMax Temp      261\nWind Speed    251\ndtype: int64"
     },
     "metadata": {},
     "execution_count": 5
    }
   ],
   "source": [
    "vaca.nunique()"
   ]
  },
  {
   "cell_type": "code",
   "execution_count": 6,
   "metadata": {},
   "outputs": [
    {
     "output_type": "execute_result",
     "data": {
      "text/plain": "     Humidity    Lat     Lng\n0          72  68.05   39.51\n1          74 -20.41   57.70\n2          73  77.48  -69.36\n3          39  40.71  112.04\n4          76 -33.93   18.42\n..        ...    ...     ...\n543        32  33.97   36.66\n544         4  24.01 -104.61\n545        62  49.65    0.71\n546        93  51.07  132.56\n547        64  27.72  109.18\n\n[548 rows x 3 columns]",
      "text/html": "<div>\n<style scoped>\n    .dataframe tbody tr th:only-of-type {\n        vertical-align: middle;\n    }\n\n    .dataframe tbody tr th {\n        vertical-align: top;\n    }\n\n    .dataframe thead th {\n        text-align: right;\n    }\n</style>\n<table border=\"1\" class=\"dataframe\">\n  <thead>\n    <tr style=\"text-align: right;\">\n      <th></th>\n      <th>Humidity</th>\n      <th>Lat</th>\n      <th>Lng</th>\n    </tr>\n  </thead>\n  <tbody>\n    <tr>\n      <th>0</th>\n      <td>72</td>\n      <td>68.05</td>\n      <td>39.51</td>\n    </tr>\n    <tr>\n      <th>1</th>\n      <td>74</td>\n      <td>-20.41</td>\n      <td>57.70</td>\n    </tr>\n    <tr>\n      <th>2</th>\n      <td>73</td>\n      <td>77.48</td>\n      <td>-69.36</td>\n    </tr>\n    <tr>\n      <th>3</th>\n      <td>39</td>\n      <td>40.71</td>\n      <td>112.04</td>\n    </tr>\n    <tr>\n      <th>4</th>\n      <td>76</td>\n      <td>-33.93</td>\n      <td>18.42</td>\n    </tr>\n    <tr>\n      <th>...</th>\n      <td>...</td>\n      <td>...</td>\n      <td>...</td>\n    </tr>\n    <tr>\n      <th>543</th>\n      <td>32</td>\n      <td>33.97</td>\n      <td>36.66</td>\n    </tr>\n    <tr>\n      <th>544</th>\n      <td>4</td>\n      <td>24.01</td>\n      <td>-104.61</td>\n    </tr>\n    <tr>\n      <th>545</th>\n      <td>62</td>\n      <td>49.65</td>\n      <td>0.71</td>\n    </tr>\n    <tr>\n      <th>546</th>\n      <td>93</td>\n      <td>51.07</td>\n      <td>132.56</td>\n    </tr>\n    <tr>\n      <th>547</th>\n      <td>64</td>\n      <td>27.72</td>\n      <td>109.18</td>\n    </tr>\n  </tbody>\n</table>\n<p>548 rows × 3 columns</p>\n</div>"
     },
     "metadata": {},
     "execution_count": 6
    }
   ],
   "source": [
    "hum = vaca[['Humidity', 'Lat', 'Lng']]\n",
    "hum"
   ]
  },
  {
   "cell_type": "code",
   "execution_count": 7,
   "metadata": {},
   "outputs": [
    {
     "output_type": "execute_result",
     "data": {
      "text/plain": "            City  Humidity    Lat     Lng\n0      ostrovnoy        72  68.05   39.51\n1      mahebourg        74 -20.41   57.70\n2        qaanaaq        73  77.48  -69.36\n3         zhuhai        39  40.71  112.04\n4      cape town        76 -33.93   18.42\n..           ...       ...    ...     ...\n543       yabrud        32  33.97   36.66\n544      paraiso         4  24.01 -104.61\n545      veraval        62  49.65    0.71\n546  novyy urgal        93  51.07  132.56\n547      tongren        64  27.72  109.18\n\n[548 rows x 4 columns]",
      "text/html": "<div>\n<style scoped>\n    .dataframe tbody tr th:only-of-type {\n        vertical-align: middle;\n    }\n\n    .dataframe tbody tr th {\n        vertical-align: top;\n    }\n\n    .dataframe thead th {\n        text-align: right;\n    }\n</style>\n<table border=\"1\" class=\"dataframe\">\n  <thead>\n    <tr style=\"text-align: right;\">\n      <th></th>\n      <th>City</th>\n      <th>Humidity</th>\n      <th>Lat</th>\n      <th>Lng</th>\n    </tr>\n  </thead>\n  <tbody>\n    <tr>\n      <th>0</th>\n      <td>ostrovnoy</td>\n      <td>72</td>\n      <td>68.05</td>\n      <td>39.51</td>\n    </tr>\n    <tr>\n      <th>1</th>\n      <td>mahebourg</td>\n      <td>74</td>\n      <td>-20.41</td>\n      <td>57.70</td>\n    </tr>\n    <tr>\n      <th>2</th>\n      <td>qaanaaq</td>\n      <td>73</td>\n      <td>77.48</td>\n      <td>-69.36</td>\n    </tr>\n    <tr>\n      <th>3</th>\n      <td>zhuhai</td>\n      <td>39</td>\n      <td>40.71</td>\n      <td>112.04</td>\n    </tr>\n    <tr>\n      <th>4</th>\n      <td>cape town</td>\n      <td>76</td>\n      <td>-33.93</td>\n      <td>18.42</td>\n    </tr>\n    <tr>\n      <th>...</th>\n      <td>...</td>\n      <td>...</td>\n      <td>...</td>\n      <td>...</td>\n    </tr>\n    <tr>\n      <th>543</th>\n      <td>yabrud</td>\n      <td>32</td>\n      <td>33.97</td>\n      <td>36.66</td>\n    </tr>\n    <tr>\n      <th>544</th>\n      <td>paraiso</td>\n      <td>4</td>\n      <td>24.01</td>\n      <td>-104.61</td>\n    </tr>\n    <tr>\n      <th>545</th>\n      <td>veraval</td>\n      <td>62</td>\n      <td>49.65</td>\n      <td>0.71</td>\n    </tr>\n    <tr>\n      <th>546</th>\n      <td>novyy urgal</td>\n      <td>93</td>\n      <td>51.07</td>\n      <td>132.56</td>\n    </tr>\n    <tr>\n      <th>547</th>\n      <td>tongren</td>\n      <td>64</td>\n      <td>27.72</td>\n      <td>109.18</td>\n    </tr>\n  </tbody>\n</table>\n<p>548 rows × 4 columns</p>\n</div>"
     },
     "metadata": {},
     "execution_count": 7
    }
   ],
   "source": [
    "city = vaca[['City','Humidity', 'Lat', 'Lng']]\n",
    "city.drop_duplicates('City')"
   ]
  },
  {
   "cell_type": "code",
   "execution_count": 8,
   "metadata": {},
   "outputs": [
    {
     "output_type": "display_data",
     "data": {
      "text/plain": "Figure(layout=FigureLayout(border='2px solid black', height='600px', margin='0 auto 0 auto', padding='2px', wi…",
      "application/vnd.jupyter.widget-view+json": {
       "version_major": 2,
       "version_minor": 0,
       "model_id": "542ba5bcb22a446db330543f15366e0e"
      }
     },
     "metadata": {}
    }
   ],
   "source": [
    "### Humidity Heatmap\n",
    "#* Configure gmaps.\n",
    "#* Use the Lat and Lng as locations and Humidity as the weight.\n",
    "#* Add Heatmap layer to map.\n",
    "figure_layout = {\n",
    "    'width': '1300px',\n",
    "    'height': '600px',\n",
    "    'border': '2px solid black',\n",
    "    'padding': '2px',\n",
    "    'margin': '0 auto 0 auto'\n",
    "}\n",
    "\n",
    "#configure\n",
    "gmaps.configure(g_key)\n",
    "\n",
    "#identify\n",
    "locations = vaca[[\"Lat\", \"Lng\"]]\n",
    "weight = vaca[\"Humidity\"]\n",
    "\n",
    "#plot heatmap\n",
    "fig = gmaps.figure(layout=figure_layout, zoom_level=2, center=(15,30))\n",
    "heat = gmaps.heatmap_layer(locations, weights=weight,\n",
    "                           dissipating=True, max_intensity=10,\n",
    "                                 point_radius=5)\n",
    "#add layer\n",
    "fig.add_layer(heat)\n",
    "#display fig\n",
    "fig"
   ]
  },
  {
   "cell_type": "markdown",
   "metadata": {},
   "source": [
    "Create new DataFrame fitting weather criteria\n",
    "    Narrow down the cities to fit weather conditions.\n",
    "    Drop any rows will null values."
   ]
  },
  {
   "cell_type": "code",
   "execution_count": 9,
   "metadata": {},
   "outputs": [
    {
     "output_type": "execute_result",
     "data": {
      "text/plain": "             City  Max Temp  Wind Speed  Cloudiness\n7           opuwo     72.06        5.44           0\n70   ponta do sol     73.68        5.32           0\n88       cidreira     76.56        5.50           0\n138     morondava     79.08        9.06           0\n139         vaini     78.90        1.59           0\n176         nador     75.20        6.93           0\n297         mogok     72.24        2.77           0\n444       birjand     71.60        9.17           0",
      "text/html": "<div>\n<style scoped>\n    .dataframe tbody tr th:only-of-type {\n        vertical-align: middle;\n    }\n\n    .dataframe tbody tr th {\n        vertical-align: top;\n    }\n\n    .dataframe thead th {\n        text-align: right;\n    }\n</style>\n<table border=\"1\" class=\"dataframe\">\n  <thead>\n    <tr style=\"text-align: right;\">\n      <th></th>\n      <th>City</th>\n      <th>Max Temp</th>\n      <th>Wind Speed</th>\n      <th>Cloudiness</th>\n    </tr>\n  </thead>\n  <tbody>\n    <tr>\n      <th>7</th>\n      <td>opuwo</td>\n      <td>72.06</td>\n      <td>5.44</td>\n      <td>0</td>\n    </tr>\n    <tr>\n      <th>70</th>\n      <td>ponta do sol</td>\n      <td>73.68</td>\n      <td>5.32</td>\n      <td>0</td>\n    </tr>\n    <tr>\n      <th>88</th>\n      <td>cidreira</td>\n      <td>76.56</td>\n      <td>5.50</td>\n      <td>0</td>\n    </tr>\n    <tr>\n      <th>138</th>\n      <td>morondava</td>\n      <td>79.08</td>\n      <td>9.06</td>\n      <td>0</td>\n    </tr>\n    <tr>\n      <th>139</th>\n      <td>vaini</td>\n      <td>78.90</td>\n      <td>1.59</td>\n      <td>0</td>\n    </tr>\n    <tr>\n      <th>176</th>\n      <td>nador</td>\n      <td>75.20</td>\n      <td>6.93</td>\n      <td>0</td>\n    </tr>\n    <tr>\n      <th>297</th>\n      <td>mogok</td>\n      <td>72.24</td>\n      <td>2.77</td>\n      <td>0</td>\n    </tr>\n    <tr>\n      <th>444</th>\n      <td>birjand</td>\n      <td>71.60</td>\n      <td>9.17</td>\n      <td>0</td>\n    </tr>\n  </tbody>\n</table>\n</div>"
     },
     "metadata": {},
     "execution_count": 9
    }
   ],
   "source": [
    "# Narrow down the DataFrame to find your ideal weather condition. For example:\n",
    "# A max temperature lower than 80 degrees but higher than 70.\n",
    "# Wind speed less than 10 mph.\n",
    "# Zero cloudiness.\n",
    "# Drop any rows that don't contain all three conditions. \n",
    "# You want to be sure the weather is ideal\n",
    "\n",
    "data= vaca[[\"City\", \"Max Temp\", \"Wind Speed\", \"Cloudiness\"]]\n",
    "data\n",
    "temp=(data['Max Temp'] <=80) & (data['Max Temp'] > 70)\n",
    "wind= data['Wind Speed'] < 10\n",
    "cloud = data['Cloudiness'] == 0\n",
    "data[temp & wind & cloud]"
   ]
  },
  {
   "cell_type": "code",
   "execution_count": 10,
   "metadata": {},
   "outputs": [
    {
     "output_type": "execute_result",
     "data": {
      "text/plain": "             City  Max Temp  Wind Speed  Cloudiness    Lng    Lat Country  \\\n7           opuwo     72.06        5.44           0  13.84 -18.06     NaN   \n70   ponta do sol     73.68        5.32           0 -46.00 -20.63      BR   \n88       cidreira     76.56        5.50           0 -50.22 -30.17      BR   \n138     morondava     79.08        9.06           0  44.28 -20.30      MG   \n139         vaini     78.90        1.59           0  74.49  15.34      IN   \n176         nador     75.20        6.93           0  -2.93  35.17      MA   \n297         mogok     72.24        2.77           0  96.51  22.92      MM   \n444       birjand     71.60        9.17           0  59.22  32.86      IR   \n\n     Humidity  \n7          23  \n70         57  \n88         66  \n138        69  \n139        88  \n176        40  \n297        51  \n444        26  ",
      "text/html": "<div>\n<style scoped>\n    .dataframe tbody tr th:only-of-type {\n        vertical-align: middle;\n    }\n\n    .dataframe tbody tr th {\n        vertical-align: top;\n    }\n\n    .dataframe thead th {\n        text-align: right;\n    }\n</style>\n<table border=\"1\" class=\"dataframe\">\n  <thead>\n    <tr style=\"text-align: right;\">\n      <th></th>\n      <th>City</th>\n      <th>Max Temp</th>\n      <th>Wind Speed</th>\n      <th>Cloudiness</th>\n      <th>Lng</th>\n      <th>Lat</th>\n      <th>Country</th>\n      <th>Humidity</th>\n    </tr>\n  </thead>\n  <tbody>\n    <tr>\n      <th>7</th>\n      <td>opuwo</td>\n      <td>72.06</td>\n      <td>5.44</td>\n      <td>0</td>\n      <td>13.84</td>\n      <td>-18.06</td>\n      <td>NaN</td>\n      <td>23</td>\n    </tr>\n    <tr>\n      <th>70</th>\n      <td>ponta do sol</td>\n      <td>73.68</td>\n      <td>5.32</td>\n      <td>0</td>\n      <td>-46.00</td>\n      <td>-20.63</td>\n      <td>BR</td>\n      <td>57</td>\n    </tr>\n    <tr>\n      <th>88</th>\n      <td>cidreira</td>\n      <td>76.56</td>\n      <td>5.50</td>\n      <td>0</td>\n      <td>-50.22</td>\n      <td>-30.17</td>\n      <td>BR</td>\n      <td>66</td>\n    </tr>\n    <tr>\n      <th>138</th>\n      <td>morondava</td>\n      <td>79.08</td>\n      <td>9.06</td>\n      <td>0</td>\n      <td>44.28</td>\n      <td>-20.30</td>\n      <td>MG</td>\n      <td>69</td>\n    </tr>\n    <tr>\n      <th>139</th>\n      <td>vaini</td>\n      <td>78.90</td>\n      <td>1.59</td>\n      <td>0</td>\n      <td>74.49</td>\n      <td>15.34</td>\n      <td>IN</td>\n      <td>88</td>\n    </tr>\n    <tr>\n      <th>176</th>\n      <td>nador</td>\n      <td>75.20</td>\n      <td>6.93</td>\n      <td>0</td>\n      <td>-2.93</td>\n      <td>35.17</td>\n      <td>MA</td>\n      <td>40</td>\n    </tr>\n    <tr>\n      <th>297</th>\n      <td>mogok</td>\n      <td>72.24</td>\n      <td>2.77</td>\n      <td>0</td>\n      <td>96.51</td>\n      <td>22.92</td>\n      <td>MM</td>\n      <td>51</td>\n    </tr>\n    <tr>\n      <th>444</th>\n      <td>birjand</td>\n      <td>71.60</td>\n      <td>9.17</td>\n      <td>0</td>\n      <td>59.22</td>\n      <td>32.86</td>\n      <td>IR</td>\n      <td>26</td>\n    </tr>\n  </tbody>\n</table>\n</div>"
     },
     "metadata": {},
     "execution_count": 10
    }
   ],
   "source": [
    "data1= vaca[[\"City\", \"Max Temp\", \"Wind Speed\", \"Cloudiness\", \"Lng\",\"Lat\",\"Country\", \"Humidity\"]]\n",
    "data1\n",
    "temp1=(data1['Max Temp'] <=80) & (data['Max Temp'] > 70)\n",
    "wind1= data1['Wind Speed'] < 10\n",
    "cloud1 = data1['Cloudiness'] == 0\n",
    "data1[temp1 & wind1 & cloud1]"
   ]
  },
  {
   "cell_type": "code",
   "execution_count": 11,
   "metadata": {},
   "outputs": [
    {
     "output_type": "display_data",
     "data": {
      "text/plain": "Figure(layout=FigureLayout(border='2px solid black', height='600px', margin='0 auto 0 auto', padding='2px', wi…",
      "application/vnd.jupyter.widget-view+json": {
       "version_major": 2,
       "version_minor": 0,
       "model_id": "1f64c8f7525549fea3f1afcef1e879ef"
      }
     },
     "metadata": {}
    }
   ],
   "source": [
    "#configure\n",
    "gmaps.configure(g_key)\n",
    "\n",
    "#layout\n",
    "\n",
    "figure_layout = {\n",
    "    'width': '1300px',\n",
    "    'height': '600px',\n",
    "    'border': '2px solid black',\n",
    "    'padding': '2px',\n",
    "    'margin': '0 auto 0 auto'\n",
    "}\n",
    "\n",
    "#identify\n",
    "locations1 = data1[[\"Lat\", \"Lng\"]]\n",
    "weight1 = data1[\"Humidity\"]\n",
    "\n",
    "#plot heatmap\n",
    "fig = gmaps.figure(layout=figure_layout, zoom_level=2, center=(15,30))\n",
    "heat = gmaps.heatmap_layer(locations= locations1, weights= weight1,\n",
    "                           dissipating=True, max_intensity=10,\n",
    "                                 point_radius=3)\n",
    "#add layer\n",
    "fig.add_layer(heat)\n",
    "#display fig\n",
    "fig"
   ]
  },
  {
   "cell_type": "markdown",
   "metadata": {},
   "source": [
    "### Hotel Map\n",
    "* Store into variable named `hotel_df`.\n",
    "* Add a \"Hotel Name\" column to the DataFrame.\n",
    "* Set parameters to search for hotels with 5000 meters.\n",
    "* Hit the Google Places API for each city's coordinates.\n",
    "* Store the first Hotel result into the DataFrame.\n",
    "* Plot markers on top of the heatmap."
   ]
  },
  {
   "cell_type": "code",
   "execution_count": 12,
   "metadata": {},
   "outputs": [
    {
     "output_type": "execute_result",
     "data": {
      "text/plain": "            City Country    Lat     Lng  Humidity\n0      ostrovnoy      RU  68.05   39.51        72\n1      mahebourg      MU -20.41   57.70        74\n2        qaanaaq      GL  77.48  -69.36        73\n3         zhuhai      CN  40.71  112.04        39\n4      cape town      ZA -33.93   18.42        76\n..           ...     ...    ...     ...       ...\n543       yabrud      SY  33.97   36.66        32\n544      paraiso      MX  24.01 -104.61         4\n545      veraval      FR  49.65    0.71        62\n546  novyy urgal      RU  51.07  132.56        93\n547      tongren      CN  27.72  109.18        64\n\n[548 rows x 5 columns]",
      "text/html": "<div>\n<style scoped>\n    .dataframe tbody tr th:only-of-type {\n        vertical-align: middle;\n    }\n\n    .dataframe tbody tr th {\n        vertical-align: top;\n    }\n\n    .dataframe thead th {\n        text-align: right;\n    }\n</style>\n<table border=\"1\" class=\"dataframe\">\n  <thead>\n    <tr style=\"text-align: right;\">\n      <th></th>\n      <th>City</th>\n      <th>Country</th>\n      <th>Lat</th>\n      <th>Lng</th>\n      <th>Humidity</th>\n    </tr>\n  </thead>\n  <tbody>\n    <tr>\n      <th>0</th>\n      <td>ostrovnoy</td>\n      <td>RU</td>\n      <td>68.05</td>\n      <td>39.51</td>\n      <td>72</td>\n    </tr>\n    <tr>\n      <th>1</th>\n      <td>mahebourg</td>\n      <td>MU</td>\n      <td>-20.41</td>\n      <td>57.70</td>\n      <td>74</td>\n    </tr>\n    <tr>\n      <th>2</th>\n      <td>qaanaaq</td>\n      <td>GL</td>\n      <td>77.48</td>\n      <td>-69.36</td>\n      <td>73</td>\n    </tr>\n    <tr>\n      <th>3</th>\n      <td>zhuhai</td>\n      <td>CN</td>\n      <td>40.71</td>\n      <td>112.04</td>\n      <td>39</td>\n    </tr>\n    <tr>\n      <th>4</th>\n      <td>cape town</td>\n      <td>ZA</td>\n      <td>-33.93</td>\n      <td>18.42</td>\n      <td>76</td>\n    </tr>\n    <tr>\n      <th>...</th>\n      <td>...</td>\n      <td>...</td>\n      <td>...</td>\n      <td>...</td>\n      <td>...</td>\n    </tr>\n    <tr>\n      <th>543</th>\n      <td>yabrud</td>\n      <td>SY</td>\n      <td>33.97</td>\n      <td>36.66</td>\n      <td>32</td>\n    </tr>\n    <tr>\n      <th>544</th>\n      <td>paraiso</td>\n      <td>MX</td>\n      <td>24.01</td>\n      <td>-104.61</td>\n      <td>4</td>\n    </tr>\n    <tr>\n      <th>545</th>\n      <td>veraval</td>\n      <td>FR</td>\n      <td>49.65</td>\n      <td>0.71</td>\n      <td>62</td>\n    </tr>\n    <tr>\n      <th>546</th>\n      <td>novyy urgal</td>\n      <td>RU</td>\n      <td>51.07</td>\n      <td>132.56</td>\n      <td>93</td>\n    </tr>\n    <tr>\n      <th>547</th>\n      <td>tongren</td>\n      <td>CN</td>\n      <td>27.72</td>\n      <td>109.18</td>\n      <td>64</td>\n    </tr>\n  </tbody>\n</table>\n<p>548 rows × 5 columns</p>\n</div>"
     },
     "metadata": {},
     "execution_count": 12
    }
   ],
   "source": [
    "hotel_df = data1[[\"City\",\"Country\",\"Lat\", \"Lng\",\"Humidity\"]]\n",
    "#set up empty string / add empty column\n",
    "#hotel_df[\"Hotel Name\"] = \"\"\n",
    "hotel_df"
   ]
  },
  {
   "cell_type": "code",
   "execution_count": 20,
   "metadata": {
    "tags": []
   },
   "outputs": [
    {
     "output_type": "stream",
     "name": "stdout",
     "text": "The closest hotel is Yudu Hotel.\n"
    }
   ],
   "source": [
    "#Coordinates\n",
    "target_coordinates = f\"{hotel_df['Lat']},{hotel_df['Lng']}\"\n",
    "\n",
    "#set up a dictionary\n",
    "params = {\n",
    "    \"location\": target_coordinates,\n",
    "    \"keyword\": 'hotel',\n",
    "    \"radius\": 5000,\n",
    "    \"type\": 'hotel',\n",
    "    \"key\": g_key\n",
    "}\n",
    "\n",
    "for index, row in hotel_df.iterrows():\n",
    "    # get lat, lng from df\n",
    "    lat = row[\"Lat\"]\n",
    "    lng = row[\"Lng\"]\n",
    "\n",
    "params[\"location\"] = f\"{lat},{lng}\"\n",
    "\n",
    "#base url\n",
    "base_url = \"https://maps.googleapis.com/maps/api/place/nearbysearch/json\"\n",
    "#run a request\n",
    "response = requests.get(base_url, params=params)\n",
    "\n",
    "response = response.json()\n",
    "\n",
    "results= response['results']\n",
    "\n",
    "try:\n",
    "    print(f\"\\tThe closest hotel is {results[0]['name']}.\")\n",
    "    hotel_df.loc[index, 'Hotel Name'] = results[0]['name']\n",
    "\n",
    "except (IndexError):\n",
    "    print(\"Missing field/result... skipping.\")"
   ]
  },
  {
   "cell_type": "code",
   "execution_count": 14,
   "metadata": {},
   "outputs": [
    {
     "output_type": "execute_result",
     "data": {
      "text/plain": "[{'business_status': 'OPERATIONAL',\n  'geometry': {'location': {'lat': 27.730232, 'lng': 109.18133},\n   'viewport': {'northeast': {'lat': 27.73152932989272,\n     'lng': 109.1826955798927},\n    'southwest': {'lat': 27.72882967010728, 'lng': 109.1799959201073}}},\n  'icon': 'https://maps.gstatic.com/mapfiles/place_api/icons/lodging-71.png',\n  'id': '14ca1146d42b71cd0e7f7907fdfa204b778d2b46',\n  'name': 'Yudu Hotel',\n  'photos': [{'height': 2240,\n    'html_attributions': ['<a href=\"https://maps.google.com/maps/contrib/112938191641416269920\">Voon Leong Lim</a>'],\n    'photo_reference': 'CmRaAAAAKTumW38RZ1iw5v_6Sh6s1ciswCzO_buS0d4N9MupcsG3Br7v8_bKNmhyM-fNKeCrfAW5BUHUfnmHRm00z3zcAM2Rd6qB_ob-aSzopnPfMlTa8EhQArKp76JcaXWmTW61EhBkjvr3dmtTzm_9wgk8SmIFGhQEFOYgFT1ERSpmqhINDLQXAQBVig',\n    'width': 3968}],\n  'place_id': 'ChIJexeBty6-lzYRPuSs3r33a58',\n  'plus_code': {'compound_code': 'P5JJ+3G Bijiang District, Tongren, Guizhou, China',\n   'global_code': '7PVFP5JJ+3G'},\n  'rating': 5,\n  'reference': 'ChIJexeBty6-lzYRPuSs3r33a58',\n  'scope': 'GOOGLE',\n  'types': ['lodging', 'point_of_interest', 'establishment'],\n  'user_ratings_total': 1,\n  'vicinity': 'No.141 Baosheng Avenue, Huixing Street, Tongren'},\n {'business_status': 'OPERATIONAL',\n  'geometry': {'location': {'lat': 27.745558, 'lng': 109.20818},\n   'viewport': {'northeast': {'lat': 27.74702797989272,\n     'lng': 109.2096237298927},\n    'southwest': {'lat': 27.74432832010727, 'lng': 109.2069240701073}}},\n  'icon': 'https://maps.gstatic.com/mapfiles/place_api/icons/lodging-71.png',\n  'id': '335ba6fcd8c850237a29372b04d79a4a5bcb48bf',\n  'name': 'Tongren High Speed Railway Hotel',\n  'place_id': 'ChIJZQTfr-uVlzYRtjUWDihMfgU',\n  'plus_code': {'compound_code': 'P6W5+67 Bijiang District, Tongren, Guizhou, China',\n   'global_code': '7PVFP6W5+67'},\n  'rating': 0,\n  'reference': 'ChIJZQTfr-uVlzYRtjUWDihMfgU',\n  'scope': 'GOOGLE',\n  'types': ['lodging', 'point_of_interest', 'establishment'],\n  'user_ratings_total': 0,\n  'vicinity': 'railway station, Building 6, Zone D, Qingshui Ave, Tongren'},\n {'business_status': 'OPERATIONAL',\n  'geometry': {'location': {'lat': 27.732345, 'lng': 109.18979},\n   'viewport': {'northeast': {'lat': 27.73390922989272,\n     'lng': 109.1912712298927},\n    'southwest': {'lat': 27.73120957010728, 'lng': 109.1885715701073}}},\n  'icon': 'https://maps.gstatic.com/mapfiles/place_api/icons/lodging-71.png',\n  'id': '397be35220c6ff73d9a97017a712a5e1472f1cfb',\n  'name': 'Tongren Grand Metro Park Hotel',\n  'photos': [{'height': 3024,\n    'html_attributions': ['<a href=\"https://maps.google.com/maps/contrib/111341541869190920998\">JERRY CHEUNG</a>'],\n    'photo_reference': 'CmRaAAAAsLSfAz37bHgwl-TChIcNwdhBPWPndsZvAMkF1jT4SrM_eCPE4lG3SOwIsuUxzad99tKIh6mj7HDthH3uJ6g61CtX_5EeWWC-D09at8sqd49HEgxvFb1_T8xM1ViMGKw1EhBxDuCc45i8jkdU8cMWCgqsGhSHUkGYq2Z13mRSkuNZevlyEeYmKQ',\n    'width': 4032}],\n  'place_id': 'ChIJyzlfwYeVlzYR9eh3Bhy98Yk',\n  'plus_code': {'compound_code': 'P5JQ+WW Bijiang District, Tongren, Guizhou, China',\n   'global_code': '7PVFP5JQ+WW'},\n  'rating': 4.7,\n  'reference': 'ChIJyzlfwYeVlzYR9eh3Bhy98Yk',\n  'scope': 'GOOGLE',\n  'types': ['lodging', 'point_of_interest', 'establishment'],\n  'user_ratings_total': 3,\n  'vicinity': '31 Huaguoshan N Rd, Bijiang District, Tongren'},\n {'business_status': 'OPERATIONAL',\n  'geometry': {'location': {'lat': 27.747902, 'lng': 109.21017},\n   'viewport': {'northeast': {'lat': 27.74881072989272,\n     'lng': 109.2109413798927},\n    'southwest': {'lat': 27.74611107010728, 'lng': 109.2082417201073}}},\n  'icon': 'https://maps.gstatic.com/mapfiles/place_api/icons/lodging-71.png',\n  'id': '7927c305a3df788c30dd9296c62eb1ed7ca9cfc8',\n  'name': 'Kaixuan Hotel',\n  'place_id': 'ChIJG2DjjOmVlzYRHTPW29ZYswQ',\n  'plus_code': {'compound_code': 'P6X6+53 Bijiang District, Tongren, Guizhou, China',\n   'global_code': '7PVFP6X6+53'},\n  'rating': 0,\n  'reference': 'ChIJG2DjjOmVlzYRHTPW29ZYswQ',\n  'scope': 'GOOGLE',\n  'types': ['lodging', 'point_of_interest', 'establishment'],\n  'user_ratings_total': 0,\n  'vicinity': 'Railway Station Square, Resettlement area on the left side of, Qingshui Ave, Tongren'},\n {'business_status': 'OPERATIONAL',\n  'geometry': {'location': {'lat': 27.678995, 'lng': 109.16131},\n   'viewport': {'northeast': {'lat': 27.68039532989272,\n     'lng': 109.1626714298927},\n    'southwest': {'lat': 27.67769567010728, 'lng': 109.1599717701073}}},\n  'icon': 'https://maps.gstatic.com/mapfiles/place_api/icons/lodging-71.png',\n  'id': '37283546db1477152f558e86214022f32a9c3b1d',\n  'name': 'Mushanhe Hotel',\n  'place_id': 'ChIJu6YJCHXAlzYRJSjAU5Fn6bw',\n  'plus_code': {'compound_code': 'M5H6+HG Wanshan District, Tongren, Guizhou, China',\n   'global_code': '7PVFM5H6+HG'},\n  'rating': 3.5,\n  'reference': 'ChIJu6YJCHXAlzYRJSjAU5Fn6bw',\n  'scope': 'GOOGLE',\n  'types': ['lodging', 'point_of_interest', 'establishment'],\n  'user_ratings_total': 2,\n  'vicinity': 'Home, Southwest International Trade City, Near Chuxi Avenue (2-7F, Building 1, Drivers, Tongren'},\n {'business_status': 'OPERATIONAL',\n  'geometry': {'location': {'lat': 27.680738, 'lng': 109.194595},\n   'viewport': {'northeast': {'lat': 27.68273717989272,\n     'lng': 109.1955523798927},\n    'southwest': {'lat': 27.68003752010728, 'lng': 109.1928527201073}}},\n  'icon': 'https://maps.gstatic.com/mapfiles/place_api/icons/lodging-71.png',\n  'id': '581179b9346d79d5cd73a17a5021919e20bb3653',\n  'name': 'Yongxing Business Hotel',\n  'place_id': 'ChIJxWr18lOVlzYRZLY0p7nxtYc',\n  'plus_code': {'compound_code': 'M5JV+7R Bijiang District, Tongren, Guizhou, China',\n   'global_code': '7PVFM5JV+7R'},\n  'rating': 0,\n  'reference': 'ChIJxWr18lOVlzYRZLY0p7nxtYc',\n  'scope': 'GOOGLE',\n  'types': ['lodging', 'point_of_interest', 'establishment'],\n  'user_ratings_total': 0,\n  'vicinity': 'No.61-62, Xieqiao Vegetable Garden, Shaoyang, Road, Tongren'},\n {'business_status': 'OPERATIONAL',\n  'geometry': {'location': {'lat': 27.746561, 'lng': 109.206985},\n   'viewport': {'northeast': {'lat': 27.74785972989272,\n     'lng': 109.2084718798927},\n    'southwest': {'lat': 27.74516007010728, 'lng': 109.2057722201073}}},\n  'icon': 'https://maps.gstatic.com/mapfiles/place_api/icons/lodging-71.png',\n  'id': '469d74cbe4debd0e72ed1757027cd7a3133522b1',\n  'name': 'Tongren Xiange Hotel',\n  'place_id': 'ChIJSW5k6-uVlzYRDJhLoTnjyZ8',\n  'plus_code': {'compound_code': 'P6W4+JQ Bijiang District, Tongren, Guizhou, China',\n   'global_code': '7PVFP6W4+JQ'},\n  'rating': 0,\n  'reference': 'ChIJSW5k6-uVlzYRDJhLoTnjyZ8',\n  'scope': 'GOOGLE',\n  'types': ['lodging', 'point_of_interest', 'establishment'],\n  'user_ratings_total': 0,\n  'vicinity': 'Building 1, Area C1, Wuhuan, Qingshui Rd, Huayuan County, Tongren'},\n {'business_status': 'OPERATIONAL',\n  'geometry': {'location': {'lat': 27.721905, 'lng': 109.185705},\n   'viewport': {'northeast': {'lat': 27.72337592989273,\n     'lng': 109.1871246298927},\n    'southwest': {'lat': 27.72067627010728, 'lng': 109.1844249701073}}},\n  'icon': 'https://maps.gstatic.com/mapfiles/place_api/icons/lodging-71.png',\n  'id': 'aa96d59d126b9fcee21d3a2aa9b11a196d216d77',\n  'name': 'Junyikaiyue Hotel',\n  'photos': [{'height': 4032,\n    'html_attributions': ['<a href=\"https://maps.google.com/maps/contrib/116601439754568571064\">Thảo Võ</a>'],\n    'photo_reference': 'CmRaAAAAjArcjv_u77gl8E5YGZddtnxmST7BdhwOVbS9FbpGedX3vjZ774fZqQdtbfAoZzJYO8rPvbrd0QLjOj6VMprmQyGU1gQcBdzhVUaU5-e7Z7aKXHkzvQ3ZZYMDOCFcqjx4EhB6Rny1hEq2syZhhcsbZPefGhTsrTxIiZ1vLd-kd2Q-aMhb1FVZiA',\n    'width': 3024}],\n  'place_id': 'ChIJ2ZC9N9W_lzYR46WESFM28es',\n  'plus_code': {'compound_code': 'P5CP+Q7 Bijiang District, Tongren, Guizhou, China',\n   'global_code': '7PVFP5CP+Q7'},\n  'rating': 4,\n  'reference': 'ChIJ2ZC9N9W_lzYR46WESFM28es',\n  'scope': 'GOOGLE',\n  'types': ['lodging', 'point_of_interest', 'establishment'],\n  'user_ratings_total': 1,\n  'vicinity': '41 Gongqing Rd, Bijiang Qu, Tongren'},\n {'business_status': 'OPERATIONAL',\n  'geometry': {'location': {'lat': 27.715856, 'lng': 109.18558},\n   'viewport': {'northeast': {'lat': 27.71708467989272,\n     'lng': 109.1870930798927},\n    'southwest': {'lat': 27.71438502010728, 'lng': 109.1843934201073}}},\n  'icon': 'https://maps.gstatic.com/mapfiles/place_api/icons/lodging-71.png',\n  'id': '2b5401638b0a25140024b96f32f05d6a213c2088',\n  'name': 'Tongren Grand Hotel',\n  'photos': [{'height': 1632,\n    'html_attributions': ['<a href=\"https://maps.google.com/maps/contrib/100809168966858470136\">罗康华</a>'],\n    'photo_reference': 'CmRaAAAAoDenAQnosKks4-EOTBCJh8q1Lm1mR27ukbVu9iaZLsr_xOBvuqb1fljstWJc4WEiI09KrVpjgyRVdiZCD-kTNIXKFw1bple6AbnvKFGJALXXv7oAG3wLpVTFM4ASKMabEhACl_gVrzZFvcW9vX5wuabVGhSlcgMUg5jv6gv_36eP8qMLIO350g',\n    'width': 1224}],\n  'place_id': 'ChIJCxtWZta_lzYRUs0z-GjUYMQ',\n  'plus_code': {'compound_code': 'P58P+86 Bijiang District, Tongren, Guizhou, China',\n   'global_code': '7PVFP58P+86'},\n  'rating': 0,\n  'reference': 'ChIJCxtWZta_lzYRUs0z-GjUYMQ',\n  'scope': 'GOOGLE',\n  'types': ['lodging', 'point_of_interest', 'establishment'],\n  'user_ratings_total': 0,\n  'vicinity': '35 Jinjiang S Rd, Bijiang District, Tongren'},\n {'business_status': 'OPERATIONAL',\n  'geometry': {'location': {'lat': 27.74789, 'lng': 109.20884},\n   'viewport': {'northeast': {'lat': 27.74881882989272,\n     'lng': 109.2102447298927},\n    'southwest': {'lat': 27.74611917010728, 'lng': 109.2075450701073}}},\n  'icon': 'https://maps.gstatic.com/mapfiles/place_api/icons/lodging-71.png',\n  'id': 'a4192abd3779cb00872a26ce3d412f05e8cd37ab',\n  'name': 'Boyao Theme Hotel',\n  'place_id': 'ChIJnaDkgemVlzYR4tlZu6sKOFc',\n  'plus_code': {'compound_code': 'P6X5+5G Bijiang District, Tongren, Guizhou, China',\n   'global_code': '7PVFP6X5+5G'},\n  'rating': 0,\n  'reference': 'ChIJnaDkgemVlzYR4tlZu6sKOFc',\n  'scope': 'GOOGLE',\n  'types': ['lodging', 'point_of_interest', 'establishment'],\n  'user_ratings_total': 0,\n  'vicinity': '7th Floor, Jintong International Area C, Wuling Mountain Avenue, Tongren'},\n {'business_status': 'OPERATIONAL',\n  'geometry': {'location': {'lat': 27.675043, 'lng': 109.14776},\n   'viewport': {'northeast': {'lat': 27.67614192989272,\n     'lng': 109.1484897298927},\n    'southwest': {'lat': 27.67344227010728, 'lng': 109.1457900701073}}},\n  'icon': 'https://maps.gstatic.com/mapfiles/place_api/icons/lodging-71.png',\n  'id': 'f93ad92aeeba1bafcc21d9c0f2606a216318582e',\n  'name': 'Yinyuan Ruhua Boutique Hostel',\n  'place_id': 'ChIJo2zsmHvAlzYR1j2xTB4dDb8',\n  'plus_code': {'compound_code': 'M4GX+24 Wanshan District, Tongren, Guizhou, China',\n   'global_code': '7PVFM4GX+24'},\n  'rating': 0,\n  'reference': 'ChIJo2zsmHvAlzYR1j2xTB4dDb8',\n  'scope': 'GOOGLE',\n  'types': ['lodging', 'point_of_interest', 'establishment'],\n  'user_ratings_total': 0,\n  'vicinity': 'Near Tongda Expressway (Building 8, Kite Base, Tongren'},\n {'business_status': 'OPERATIONAL',\n  'geometry': {'location': {'lat': 27.687065, 'lng': 109.16485},\n   'viewport': {'northeast': {'lat': 27.68778017989273,\n     'lng': 109.1663235798927},\n    'southwest': {'lat': 27.68508052010728, 'lng': 109.1636239201073}}},\n  'icon': 'https://maps.gstatic.com/mapfiles/place_api/icons/lodging-71.png',\n  'id': 'c03d692f70e898f44ae6d1cb6ac5fd5f3c19d3b8',\n  'name': 'FU YUE FAN HUA HOTEL',\n  'place_id': 'ChIJf6K8T_O_lzYR7TMoZgZ0FRQ',\n  'plus_code': {'compound_code': 'M5P7+RW Wanshan District, Tongren, Guizhou, China',\n   'global_code': '7PVFM5P7+RW'},\n  'rating': 0,\n  'reference': 'ChIJf6K8T_O_lzYR7TMoZgZ0FRQ',\n  'scope': 'GOOGLE',\n  'types': ['lodging', 'point_of_interest', 'establishment'],\n  'user_ratings_total': 0,\n  'vicinity': 'Near the South Station Exit of Dongda Expressway, Tongren'},\n {'business_status': 'OPERATIONAL',\n  'geometry': {'location': {'lat': 27.736994, 'lng': 109.200137},\n   'viewport': {'northeast': {'lat': 27.73832707989272,\n     'lng': 109.2016115798927},\n    'southwest': {'lat': 27.73562742010728, 'lng': 109.1989119201073}}},\n  'icon': 'https://maps.gstatic.com/mapfiles/place_api/icons/lodging-71.png',\n  'id': '113b71402a4684fc0e76070d27f22f640070f5e3',\n  'name': 'Century Hotel',\n  'place_id': 'ChIJq-Py_JGVlzYRXgam01JfWg0',\n  'plus_code': {'compound_code': 'P6P2+Q3 Bijiang District, Tongren, Guizhou, China',\n   'global_code': '7PVFP6P2+Q3'},\n  'rating': 0,\n  'reference': 'ChIJq-Py_JGVlzYRXgam01JfWg0',\n  'scope': 'GOOGLE',\n  'types': ['lodging', 'point_of_interest', 'establishment'],\n  'user_ratings_total': 0,\n  'vicinity': 'Tongren, Bijiang District, Qingshui Ave, 清水南路公园道1号'},\n {'business_status': 'OPERATIONAL',\n  'geometry': {'location': {'lat': 27.746424, 'lng': 109.20535},\n   'viewport': {'northeast': {'lat': 27.74769637989272,\n     'lng': 109.2068761798927},\n    'southwest': {'lat': 27.74499672010728, 'lng': 109.2041765201073}}},\n  'icon': 'https://maps.gstatic.com/mapfiles/place_api/icons/lodging-71.png',\n  'id': 'adb093655c437266b5155a431e72ea029b513c4c',\n  'name': 'tongtendihaokezhan',\n  'place_id': 'ChIJId64c-yVlzYROHIw_-6g1jo',\n  'plus_code': {'compound_code': 'P6W4+H4 Bijiang District, Tongren, Guizhou, China',\n   'global_code': '7PVFP6W4+H4'},\n  'rating': 0,\n  'reference': 'ChIJId64c-yVlzYROHIw_-6g1jo',\n  'scope': 'GOOGLE',\n  'types': ['lodging', 'point_of_interest', 'establishment'],\n  'user_ratings_total': 0,\n  'vicinity': '10th Floor, Building 1, Jinjiang Building, 557 East Tai Dao, Road, North, Tongren'},\n {'business_status': 'OPERATIONAL',\n  'geometry': {'location': {'lat': 27.688507, 'lng': 109.17155},\n   'viewport': {'northeast': {'lat': 27.68984622989273,\n     'lng': 109.1729119798927},\n    'southwest': {'lat': 27.68714657010728, 'lng': 109.1702123201073}}},\n  'icon': 'https://maps.gstatic.com/mapfiles/place_api/icons/lodging-71.png',\n  'id': 'bfdb17d9f0a818f6d8f737763d3de53dab1f4642',\n  'name': 'Jiwenhua Theme Hotel',\n  'place_id': 'ChIJ0x7HmPG_lzYRI9UJtmrvxY8',\n  'plus_code': {'compound_code': 'M5QC+CJ Wanshan District, Tongren, Guizhou, China',\n   'global_code': '7PVFM5QC+CJ'},\n  'rating': 0,\n  'reference': 'ChIJ0x7HmPG_lzYRI9UJtmrvxY8',\n  'scope': 'GOOGLE',\n  'types': ['lodging', 'point_of_interest', 'establishment'],\n  'user_ratings_total': 0,\n  'vicinity': 'No.8 Yixin Road, Tongren'},\n {'business_status': 'OPERATIONAL',\n  'geometry': {'location': {'lat': 27.720247, 'lng': 109.1853107},\n   'viewport': {'northeast': {'lat': 27.72158747989272,\n     'lng': 109.1866960298927},\n    'southwest': {'lat': 27.71888782010728, 'lng': 109.1839963701073}}},\n  'icon': 'https://maps.gstatic.com/mapfiles/place_api/icons/generic_business-71.png',\n  'id': 'df68eea08034994a1b668ea1522363d0ca2007c6',\n  'name': '7Days Inn Tongren Railway Station',\n  'place_id': 'ChIJZwpCAdW_lzYRYw-fbY7Ldmc',\n  'plus_code': {'compound_code': 'P5CP+34 Bijiang District, Tongren, Guizhou, China',\n   'global_code': '7PVFP5CP+34'},\n  'rating': 0,\n  'reference': 'ChIJZwpCAdW_lzYRYw-fbY7Ldmc',\n  'scope': 'GOOGLE',\n  'types': ['point_of_interest', 'establishment'],\n  'user_ratings_total': 0,\n  'vicinity': '463 Dongtai Ave, Bijiang Qu, Tongren'},\n {'business_status': 'OPERATIONAL',\n  'geometry': {'location': {'lat': 27.6814, 'lng': 109.16046},\n   'viewport': {'northeast': {'lat': 27.68273817989272,\n     'lng': 109.1617882298927},\n    'southwest': {'lat': 27.68003852010727, 'lng': 109.1590885701073}}},\n  'icon': 'https://maps.gstatic.com/mapfiles/place_api/icons/lodging-71.png',\n  'id': '03859b4874c2021e353c4b38d5a8325cfdc44166',\n  'name': 'Langting Xuyuan Hotel',\n  'place_id': 'ChIJ8wR4d4q_lzYRGSeQVMm08Zg',\n  'plus_code': {'compound_code': 'M5J6+H5 Wanshan District, Tongren, Guizhou, China',\n   'global_code': '7PVFM5J6+H5'},\n  'rating': 0,\n  'reference': 'ChIJ8wR4d4q_lzYRGSeQVMm08Zg',\n  'scope': 'GOOGLE',\n  'types': ['lodging', 'point_of_interest', 'establishment'],\n  'user_ratings_total': 0,\n  'vicinity': 'Near Jinlin Avenue (3-4F, Building 16, Southwest Trade City), Tongren'},\n {'business_status': 'OPERATIONAL',\n  'geometry': {'location': {'lat': 27.72552, 'lng': 109.19108},\n   'viewport': {'northeast': {'lat': 27.72686982989272,\n     'lng': 109.1925385798927},\n    'southwest': {'lat': 27.72417017010728, 'lng': 109.1898389201073}}},\n  'icon': 'https://maps.gstatic.com/mapfiles/place_api/icons/lodging-71.png',\n  'id': 'aa7dd06e49514ecbde5076f531a9a99b4b61bae9',\n  'name': 'Xiaolan Hostel',\n  'place_id': 'ChIJLzc4HYGVlzYRiiXoJS7Hrkc',\n  'plus_code': {'compound_code': 'P5GR+6C Bijiang District, Tongren, Guizhou, China',\n   'global_code': '7PVFP5GR+6C'},\n  'rating': 0,\n  'reference': 'ChIJLzc4HYGVlzYRiiXoJS7Hrkc',\n  'scope': 'GOOGLE',\n  'types': ['lodging', 'point_of_interest', 'establishment'],\n  'user_ratings_total': 0,\n  'vicinity': 'Building 1, No, 57 Yanxin Rd, Tongren'},\n {'business_status': 'OPERATIONAL',\n  'geometry': {'location': {'lat': 27.741842, 'lng': 109.20381},\n   'viewport': {'northeast': {'lat': 27.74300602989272,\n     'lng': 109.2051323298927},\n    'southwest': {'lat': 27.74030637010728, 'lng': 109.2024326701073}}},\n  'icon': 'https://maps.gstatic.com/mapfiles/place_api/icons/lodging-71.png',\n  'id': '42f997301eafa01acfbb600aac9138ef4a6f0a0c',\n  'name': 'beibuwan',\n  'place_id': 'ChIJE0xYOpOVlzYRGj8H_ocuJTY',\n  'plus_code': {'compound_code': 'P6R3+PG Bijiang District, Tongren, Guizhou, China',\n   'global_code': '7PVFP6R3+PG'},\n  'rating': 0,\n  'reference': 'ChIJE0xYOpOVlzYRGj8H_ocuJTY',\n  'scope': 'GOOGLE',\n  'types': ['lodging', 'point_of_interest', 'establishment'],\n  'user_ratings_total': 0,\n  'vicinity': '1315, 13F, Jinpeng International Building, No.5 Wuling Avenue, Tongren'},\n {'business_status': 'OPERATIONAL',\n  'geometry': {'location': {'lat': 27.728336, 'lng': 109.17916},\n   'viewport': {'northeast': {'lat': 27.72968962989272,\n     'lng': 109.1804335798927},\n    'southwest': {'lat': 27.72698997010728, 'lng': 109.1777339201073}}},\n  'icon': 'https://maps.gstatic.com/mapfiles/place_api/icons/lodging-71.png',\n  'id': 'b766798f7d573937ccbe4200cdcc141a5a4b0da7',\n  'name': 'Minshang Hotel',\n  'place_id': 'ChIJYd8-Myy-lzYRq9t48t7IsuE',\n  'plus_code': {'compound_code': 'P5HH+8M Bijiang District, Tongren, Guizhou, China',\n   'global_code': '7PVFP5HH+8M'},\n  'rating': 0,\n  'reference': 'ChIJYd8-Myy-lzYRq9t48t7IsuE',\n  'scope': 'GOOGLE',\n  'types': ['lodging', 'point_of_interest', 'establishment'],\n  'user_ratings_total': 0,\n  'vicinity': 'Building 13, Baisheng Taoyuan, West Outer Ring Road, Tongren'}]"
     },
     "metadata": {},
     "execution_count": 14
    }
   ],
   "source": [
    "results"
   ]
  },
  {
   "cell_type": "code",
   "execution_count": 15,
   "metadata": {
    "tags": []
   },
   "outputs": [
    {
     "output_type": "stream",
     "name": "stdout",
     "text": "Yudu Hotel\n"
    }
   ],
   "source": [
    "try:\n",
    "    print(f\"{results[0]['name']}\")\n",
    "    hotel_df.loc[index, 'Hotel_Name'] = results[0]['name']\n",
    "\n",
    "except (IndexError):\n",
    "    print(\"Missing field/result... skipping.\")\n",
    "\n",
    "    #Help Please???"
   ]
  },
  {
   "cell_type": "code",
   "execution_count": 21,
   "metadata": {},
   "outputs": [
    {
     "output_type": "execute_result",
     "data": {
      "text/plain": "            City Country    Lat     Lng  Humidity  Hotel Name  Hotel_Name\n0      ostrovnoy      RU  68.05   39.51        72         NaN         NaN\n1      mahebourg      MU -20.41   57.70        74         NaN         NaN\n2        qaanaaq      GL  77.48  -69.36        73         NaN         NaN\n3         zhuhai      CN  40.71  112.04        39         NaN         NaN\n4      cape town      ZA -33.93   18.42        76         NaN         NaN\n..           ...     ...    ...     ...       ...         ...         ...\n543       yabrud      SY  33.97   36.66        32         NaN         NaN\n544      paraiso      MX  24.01 -104.61         4         NaN         NaN\n545      veraval      FR  49.65    0.71        62         NaN         NaN\n546  novyy urgal      RU  51.07  132.56        93         NaN         NaN\n547      tongren      CN  27.72  109.18        64  Yudu Hotel  Yudu Hotel\n\n[548 rows x 7 columns]",
      "text/html": "<div>\n<style scoped>\n    .dataframe tbody tr th:only-of-type {\n        vertical-align: middle;\n    }\n\n    .dataframe tbody tr th {\n        vertical-align: top;\n    }\n\n    .dataframe thead th {\n        text-align: right;\n    }\n</style>\n<table border=\"1\" class=\"dataframe\">\n  <thead>\n    <tr style=\"text-align: right;\">\n      <th></th>\n      <th>City</th>\n      <th>Country</th>\n      <th>Lat</th>\n      <th>Lng</th>\n      <th>Humidity</th>\n      <th>Hotel Name</th>\n      <th>Hotel_Name</th>\n    </tr>\n  </thead>\n  <tbody>\n    <tr>\n      <th>0</th>\n      <td>ostrovnoy</td>\n      <td>RU</td>\n      <td>68.05</td>\n      <td>39.51</td>\n      <td>72</td>\n      <td>NaN</td>\n      <td>NaN</td>\n    </tr>\n    <tr>\n      <th>1</th>\n      <td>mahebourg</td>\n      <td>MU</td>\n      <td>-20.41</td>\n      <td>57.70</td>\n      <td>74</td>\n      <td>NaN</td>\n      <td>NaN</td>\n    </tr>\n    <tr>\n      <th>2</th>\n      <td>qaanaaq</td>\n      <td>GL</td>\n      <td>77.48</td>\n      <td>-69.36</td>\n      <td>73</td>\n      <td>NaN</td>\n      <td>NaN</td>\n    </tr>\n    <tr>\n      <th>3</th>\n      <td>zhuhai</td>\n      <td>CN</td>\n      <td>40.71</td>\n      <td>112.04</td>\n      <td>39</td>\n      <td>NaN</td>\n      <td>NaN</td>\n    </tr>\n    <tr>\n      <th>4</th>\n      <td>cape town</td>\n      <td>ZA</td>\n      <td>-33.93</td>\n      <td>18.42</td>\n      <td>76</td>\n      <td>NaN</td>\n      <td>NaN</td>\n    </tr>\n    <tr>\n      <th>...</th>\n      <td>...</td>\n      <td>...</td>\n      <td>...</td>\n      <td>...</td>\n      <td>...</td>\n      <td>...</td>\n      <td>...</td>\n    </tr>\n    <tr>\n      <th>543</th>\n      <td>yabrud</td>\n      <td>SY</td>\n      <td>33.97</td>\n      <td>36.66</td>\n      <td>32</td>\n      <td>NaN</td>\n      <td>NaN</td>\n    </tr>\n    <tr>\n      <th>544</th>\n      <td>paraiso</td>\n      <td>MX</td>\n      <td>24.01</td>\n      <td>-104.61</td>\n      <td>4</td>\n      <td>NaN</td>\n      <td>NaN</td>\n    </tr>\n    <tr>\n      <th>545</th>\n      <td>veraval</td>\n      <td>FR</td>\n      <td>49.65</td>\n      <td>0.71</td>\n      <td>62</td>\n      <td>NaN</td>\n      <td>NaN</td>\n    </tr>\n    <tr>\n      <th>546</th>\n      <td>novyy urgal</td>\n      <td>RU</td>\n      <td>51.07</td>\n      <td>132.56</td>\n      <td>93</td>\n      <td>NaN</td>\n      <td>NaN</td>\n    </tr>\n    <tr>\n      <th>547</th>\n      <td>tongren</td>\n      <td>CN</td>\n      <td>27.72</td>\n      <td>109.18</td>\n      <td>64</td>\n      <td>Yudu Hotel</td>\n      <td>Yudu Hotel</td>\n    </tr>\n  </tbody>\n</table>\n<p>548 rows × 7 columns</p>\n</div>"
     },
     "metadata": {},
     "execution_count": 21
    }
   ],
   "source": [
    "hotel_df"
   ]
  },
  {
   "cell_type": "code",
   "execution_count": 17,
   "metadata": {},
   "outputs": [],
   "source": [
    "#hotel_df.to_csv('hotels.csv')"
   ]
  },
  {
   "cell_type": "code",
   "execution_count": 18,
   "metadata": {},
   "outputs": [],
   "source": [
    "# NOTE: Do not change any of the code in this cell\n",
    "\n",
    "# Using the template add the hotel marks to the heatmap\n",
    "info_box_template = \"\"\"\n",
    "<dl>\n",
    "<dt>Name</dt><dd>{Hotel Name}</dd>\n",
    "<dt>City</dt><dd>{City}</dd>\n",
    "<dt>Country</dt><dd>{Country}</dd>\n",
    "</dl>\n",
    "\"\"\"\n",
    "# Store the DataFrame Row\n",
    "# NOTE: be sure to update with your DataFrame name\n",
    "hotel_info = [info_box_template.format(**row) for index, row in hotel_df.iterrows()]\n",
    "locations = hotel_df[[\"Lat\", \"Lng\"]]"
   ]
  },
  {
   "cell_type": "code",
   "execution_count": 19,
   "metadata": {},
   "outputs": [
    {
     "output_type": "display_data",
     "data": {
      "text/plain": "Figure(layout=FigureLayout(border='2px solid black', height='600px', margin='0 auto 0 auto', padding='2px', wi…",
      "application/vnd.jupyter.widget-view+json": {
       "version_major": 2,
       "version_minor": 0,
       "model_id": "1f64c8f7525549fea3f1afcef1e879ef"
      }
     },
     "metadata": {}
    }
   ],
   "source": [
    "# Add marker layer ontop of heat map\n",
    "markers = gmaps.marker_layer(locations)\n",
    "fig.add_layer(markers)\n",
    "\n",
    "# Display figure\n",
    "fig"
   ]
  },
  {
   "cell_type": "code",
   "execution_count": null,
   "metadata": {},
   "outputs": [],
   "source": []
  }
 ],
 "metadata": {
  "kernelspec": {
   "display_name": "Python 3",
   "language": "python",
   "name": "python3"
  },
  "language_info": {
   "codemirror_mode": {
    "name": "ipython",
    "version": 3
   },
   "file_extension": ".py",
   "mimetype": "text/x-python",
   "name": "python",
   "nbconvert_exporter": "python",
   "pygments_lexer": "ipython3",
   "version": "3.7.6-final"
  },
  "latex_envs": {
   "LaTeX_envs_menu_present": true,
   "autoclose": false,
   "autocomplete": true,
   "bibliofile": "biblio.bib",
   "cite_by": "apalike",
   "current_citInitial": 1,
   "eqLabelWithNumbers": true,
   "eqNumInitial": 1,
   "hotkeys": {
    "equation": "Ctrl-E",
    "itemize": "Ctrl-I"
   },
   "labels_anchors": false,
   "latex_user_defs": false,
   "report_style_numbering": false,
   "user_envs_cfg": false
  }
 },
 "nbformat": 4,
 "nbformat_minor": 4
}